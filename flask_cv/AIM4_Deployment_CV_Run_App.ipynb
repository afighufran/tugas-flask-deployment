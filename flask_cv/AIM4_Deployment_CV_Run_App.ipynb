{
  "nbformat": 4,
  "nbformat_minor": 0,
  "metadata": {
    "colab": {
      "provenance": []
    },
    "kernelspec": {
      "name": "python3",
      "display_name": "Python 3"
    },
    "language_info": {
      "name": "python"
    }
  },
  "cells": [
    {
      "cell_type": "markdown",
      "source": [
        "**Contoh Deloyment untuk Domain Computer Vision (CV)**\n",
        "\n",
        "Orbit Future Academy - AI Mastery - KM Batch 4 <br>\n",
        "Tim Deployment <br>\n",
        "2023 <br>\n",
        "\n",
        "<img src=\"http://orbitfutureacademy.id/wp-content/uploads/2020/02/dark_logo.png\" alt=\"Logo Orbit\" width=\"100\" height=\"30\">\n"
      ],
      "metadata": {
        "id": "iord4tfWrKCw"
      }
    },
    {
      "cell_type": "code",
      "source": [
        "# pastikan versi tensorflow == 2.12.0\n",
        "# jika tidak sesuai, install versi tensorflow yang sesuai\n",
        "!pip show tensorflow"
      ],
      "metadata": {
        "colab": {
          "base_uri": "https://localhost:8080/"
        },
        "id": "sL8UHhL00Os5",
        "outputId": "0bcedadb-9fb8-43e7-94cc-41474648193b"
      },
      "execution_count": null,
      "outputs": [
        {
          "output_type": "stream",
          "name": "stdout",
          "text": [
            "Name: tensorflow\n",
            "Version: 2.12.0\n",
            "Summary: TensorFlow is an open source machine learning framework for everyone.\n",
            "Home-page: https://www.tensorflow.org/\n",
            "Author: Google Inc.\n",
            "Author-email: packages@tensorflow.org\n",
            "License: Apache 2.0\n",
            "Location: /usr/local/lib/python3.9/dist-packages\n",
            "Requires: absl-py, astunparse, flatbuffers, gast, google-pasta, grpcio, h5py, jax, keras, libclang, numpy, opt-einsum, packaging, protobuf, setuptools, six, tensorboard, tensorflow-estimator, tensorflow-io-gcs-filesystem, termcolor, typing-extensions, wrapt\n",
            "Required-by: dopamine-rl\n"
          ]
        }
      ]
    },
    {
      "cell_type": "code",
      "execution_count": null,
      "metadata": {
        "colab": {
          "base_uri": "https://localhost:8080/"
        },
        "id": "oKOPuoSNqpQ6",
        "outputId": "633c9797-cdc5-45b0-9e86-f3fc1fb518a3"
      },
      "outputs": [
        {
          "output_type": "stream",
          "name": "stdout",
          "text": [
            "Completed!\n"
          ]
        }
      ],
      "source": [
        "# Melakukan Instalasi Packages yang Dibutuhkan\n",
        "!pip install flask --quiet\n",
        "!pip install flask-ngrok --quiet\n",
        "print(\"Completed!\")"
      ]
    },
    {
      "cell_type": "code",
      "source": [
        "# Download \"ngrox\" \n",
        "!wget https://bin.equinox.io/c/4VmDzA7iaHb/ngrok-stable-linux-amd64.tgz\n",
        "!tar -xvf /content/ngrok-stable-linux-amd64.tgz "
      ],
      "metadata": {
        "colab": {
          "base_uri": "https://localhost:8080/"
        },
        "id": "Tgh7OgSOsPia",
        "outputId": "a6887df0-74f3-423b-999c-1e8540123379"
      },
      "execution_count": null,
      "outputs": [
        {
          "output_type": "stream",
          "name": "stdout",
          "text": [
            "--2023-04-23 06:50:32--  https://bin.equinox.io/c/4VmDzA7iaHb/ngrok-stable-linux-amd64.tgz\n",
            "Resolving bin.equinox.io (bin.equinox.io)... 52.202.168.65, 54.237.133.81, 18.205.222.128, ...\n",
            "Connecting to bin.equinox.io (bin.equinox.io)|52.202.168.65|:443... connected.\n",
            "HTTP request sent, awaiting response... 200 OK\n",
            "Length: 13856790 (13M) [application/octet-stream]\n",
            "Saving to: ‘ngrok-stable-linux-amd64.tgz’\n",
            "\n",
            "ngrok-stable-linux- 100%[===================>]  13.21M  14.0MB/s    in 0.9s    \n",
            "\n",
            "2023-04-23 06:50:33 (14.0 MB/s) - ‘ngrok-stable-linux-amd64.tgz’ saved [13856790/13856790]\n",
            "\n",
            "ngrok\n"
          ]
        }
      ]
    },
    {
      "cell_type": "code",
      "source": [
        "# Setting Token\n",
        "!./ngrok authtoken <Auth Token> # diganti dengan token Anda !"
      ],
      "metadata": {
        "colab": {
          "base_uri": "https://localhost:8080/"
        },
        "id": "dB467gFqseLS",
        "outputId": "980c5201-fcaf-4dc5-9df2-d5b0224217bc"
      },
      "execution_count": null,
      "outputs": [
        {
          "output_type": "stream",
          "name": "stdout",
          "text": [
            "Authtoken saved to configuration file: /root/.ngrok2/ngrok.yml\n"
          ]
        }
      ]
    },
    {
      "cell_type": "code",
      "source": [
        "# Clone Repository dari Github\n",
        "!git clone https://github.com/pemula-newbie/deployment-cv"
      ],
      "metadata": {
        "colab": {
          "base_uri": "https://localhost:8080/"
        },
        "id": "cWfXavqOsks6",
        "outputId": "e560bc49-1234-4856-8923-c537e95c25ad"
      },
      "execution_count": null,
      "outputs": [
        {
          "output_type": "stream",
          "name": "stdout",
          "text": [
            "Cloning into 'deployment-cv'...\n",
            "remote: Enumerating objects: 45, done.\u001b[K\n",
            "remote: Counting objects: 100% (45/45), done.\u001b[K\n",
            "remote: Compressing objects: 100% (43/43), done.\u001b[K\n",
            "remote: Total 45 (delta 8), reused 0 (delta 0), pack-reused 0\u001b[K\n",
            "Unpacking objects: 100% (45/45), 4.62 MiB | 7.54 MiB/s, done.\n"
          ]
        }
      ]
    },
    {
      "cell_type": "code",
      "source": [
        "cd /content/deployment-cv/"
      ],
      "metadata": {
        "colab": {
          "base_uri": "https://localhost:8080/"
        },
        "id": "iGZja4JQ0w4h",
        "outputId": "fd1ca6a7-2cb9-4d5f-f897-4b7453f77fe4"
      },
      "execution_count": null,
      "outputs": [
        {
          "output_type": "stream",
          "name": "stdout",
          "text": [
            "/content/deployment-cv\n"
          ]
        }
      ]
    },
    {
      "cell_type": "code",
      "source": [
        "# Jalankan Aplikasi (Kode Python \"app.py\")\n",
        "!python3 app.py"
      ],
      "metadata": {
        "colab": {
          "base_uri": "https://localhost:8080/"
        },
        "id": "tjsHsYXjs0x2",
        "outputId": "bd35ae78-164a-4659-8b1a-3fff5a9e6eed"
      },
      "execution_count": null,
      "outputs": [
        {
          "output_type": "stream",
          "name": "stdout",
          "text": [
            "2023-04-23 06:51:37.052409: I tensorflow/core/platform/cpu_feature_guard.cc:182] This TensorFlow binary is optimized to use available CPU instructions in performance-critical operations.\n",
            "To enable the following instructions: AVX2 FMA, in other operations, rebuild TensorFlow with the appropriate compiler flags.\n",
            "2023-04-23 06:51:38.123432: W tensorflow/compiler/tf2tensorrt/utils/py_utils.cc:38] TF-TRT Warning: Could not find TensorRT\n",
            " * Serving Flask app 'app'\n",
            " * Debug mode: off\n",
            "\u001b[31m\u001b[1mWARNING: This is a development server. Do not use it in a production deployment. Use a production WSGI server instead.\u001b[0m\n",
            " * Running on http://127.0.0.1:5000\n",
            "\u001b[33mPress CTRL+C to quit\u001b[0m\n",
            " * Running on http://0b97-35-247-50-238.ngrok-free.app\n",
            " * Traffic stats available on http://127.0.0.1:4040\n",
            "127.0.0.1 - - [23/Apr/2023 06:52:00] \"GET / HTTP/1.1\" 200 -\n",
            "127.0.0.1 - - [23/Apr/2023 06:52:01] \"\u001b[32mGET /static//css/client_side.css HTTP/1.1\u001b[0m\" 308 -\n",
            "127.0.0.1 - - [23/Apr/2023 06:52:01] \"\u001b[32mGET /static//css/bootstrap.min.css HTTP/1.1\u001b[0m\" 308 -\n",
            "127.0.0.1 - - [23/Apr/2023 06:52:01] \"\u001b[32mGET /static//js/jquery_3.6.0.min.js HTTP/1.1\u001b[0m\" 308 -\n",
            "127.0.0.1 - - [23/Apr/2023 06:52:02] \"GET /static/css/client_side.css HTTP/1.1\" 200 -\n",
            "127.0.0.1 - - [23/Apr/2023 06:52:02] \"GET /static/css/bootstrap.min.css HTTP/1.1\" 200 -\n",
            "127.0.0.1 - - [23/Apr/2023 06:52:02] \"GET /static/js/jquery_3.6.0.min.js HTTP/1.1\" 200 -\n",
            "127.0.0.1 - - [23/Apr/2023 06:52:05] \"\u001b[32mGET /static//js/bootstrap_3.4.1.min.js HTTP/1.1\u001b[0m\" 308 -\n",
            "127.0.0.1 - - [23/Apr/2023 06:52:05] \"\u001b[32mGET /static//images/ex-upload.JPG HTTP/1.1\u001b[0m\" 308 -\n",
            "127.0.0.1 - - [23/Apr/2023 06:52:05] \"\u001b[32mGET /static//js/client_side.js HTTP/1.1\u001b[0m\" 308 -\n",
            "127.0.0.1 - - [23/Apr/2023 06:52:06] \"GET /static/js/bootstrap_3.4.1.min.js HTTP/1.1\" 200 -\n",
            "127.0.0.1 - - [23/Apr/2023 06:52:06] \"GET /static/images/ex-upload.JPG HTTP/1.1\" 200 -\n",
            "127.0.0.1 - - [23/Apr/2023 06:52:06] \"GET /static/js/client_side.js HTTP/1.1\" 200 -\n",
            "127.0.0.1 - - [23/Apr/2023 06:52:07] \"\u001b[32mGET /static//images/orbit_logo.jpg HTTP/1.1\u001b[0m\" 308 -\n",
            "127.0.0.1 - - [23/Apr/2023 06:52:07] \"\u001b[32mGET /static//images/app-display.JPG HTTP/1.1\u001b[0m\" 308 -\n",
            "127.0.0.1 - - [23/Apr/2023 06:52:07] \"GET /static/fonts/lato_latin.woff2 HTTP/1.1\" 200 -\n",
            "127.0.0.1 - - [23/Apr/2023 06:52:08] \"GET /static/images/orbit_logo.jpg HTTP/1.1\" 200 -\n",
            "127.0.0.1 - - [23/Apr/2023 06:52:08] \"GET /static/images/app-display.JPG HTTP/1.1\" 200 -\n",
            "127.0.0.1 - - [23/Apr/2023 06:52:08] \"GET /static/fonts/glyphicons-halflings-regular.woff2 HTTP/1.1\" 200 -\n",
            "127.0.0.1 - - [23/Apr/2023 06:52:09] \"GET /static/favicon.ico HTTP/1.1\" 200 -\n",
            "127.0.0.1 - - [23/Apr/2023 06:52:24] \"\u001b[36mGET /static/favicon.ico HTTP/1.1\u001b[0m\" 304 -\n",
            "127.0.0.1 - - [23/Apr/2023 06:52:25] \"\u001b[36mGET /static/favicon.ico HTTP/1.1\u001b[0m\" 304 -\n",
            "127.0.0.1 - - [23/Apr/2023 06:52:26] \"\u001b[36mGET /static/favicon.ico HTTP/1.1\u001b[0m\" 304 -\n",
            "127.0.0.1 - - [23/Apr/2023 06:52:28] \"\u001b[36mGET /static/favicon.ico HTTP/1.1\u001b[0m\" 304 -\n",
            "1/1 [==============================] - 0s 327ms/step\n",
            "127.0.0.1 - - [23/Apr/2023 06:52:46] \"POST /api/deteksi HTTP/1.1\" 200 -\n",
            "127.0.0.1 - - [23/Apr/2023 06:52:47] \"GET /static/images/uploads/wikipedia_airplane.jpg HTTP/1.1\" 200 -\n",
            "1/1 [==============================] - 0s 21ms/step\n",
            "127.0.0.1 - - [23/Apr/2023 06:52:54] \"POST /api/deteksi HTTP/1.1\" 200 -\n",
            "127.0.0.1 - - [23/Apr/2023 06:52:55] \"GET /static/images/uploads/wikipedia_automobile.jpg HTTP/1.1\" 200 -\n",
            "Traceback (most recent call last):\n",
            "  File \"/content/deployment-cv/app.py\", line 108, in <module>\n",
            "    app.run()\n",
            "  File \"/usr/local/lib/python3.9/dist-packages/flask_ngrok.py\", line 88, in new_run\n",
            "    old_run()\n",
            "  File \"/usr/local/lib/python3.9/dist-packages/flask/app.py\", line 1191, in run\n",
            "    run_simple(t.cast(str, host), port, self, **options)\n",
            "KeyboardInterrupt\n",
            "^C\n"
          ]
        }
      ]
    }
  ]
}