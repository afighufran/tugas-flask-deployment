{
  "nbformat": 4,
  "nbformat_minor": 0,
  "metadata": {
    "colab": {
      "provenance": []
    },
    "kernelspec": {
      "name": "python3",
      "display_name": "Python 3"
    },
    "language_info": {
      "name": "python"
    }
  },
  "cells": [
    {
      "cell_type": "markdown",
      "source": [
        "**Contoh Deloyment untuk Domain Reinforcement Learning (RL)**\n",
        "\n",
        "Orbit Future Academy - AI Mastery - KM Batch 4 <br>\n",
        "Tim Deployment <br>\n",
        "2023 <br>\n",
        "\n",
        "<img src=\"https://orbitfutureacademy.id/wp-content/uploads/2023/03/OFA-Logo-01.png\" alt=\"Logo Orbit\" width=\"100\" height=\"30\">\n"
      ],
      "metadata": {
        "id": "iord4tfWrKCw"
      }
    },
    {
      "cell_type": "code",
      "execution_count": null,
      "metadata": {
        "colab": {
          "base_uri": "https://localhost:8080/"
        },
        "id": "oKOPuoSNqpQ6",
        "outputId": "030537c9-cedf-4640-c957-cfd39e375a96"
      },
      "outputs": [
        {
          "output_type": "stream",
          "name": "stdout",
          "text": [
            "\u001b[?25l     \u001b[90m━━━━━━━━━━━━━━━━━━━━━━━━━━━━━━━━━━━━━━━━\u001b[0m \u001b[32m0.0/1.6 MB\u001b[0m \u001b[31m?\u001b[0m eta \u001b[36m-:--:--\u001b[0m\r\u001b[2K     \u001b[91m━━━━━━━━━━━━━━━━━━━━━━━━━━━━━━━━━━━━━\u001b[0m\u001b[91m╸\u001b[0m\u001b[90m━━\u001b[0m \u001b[32m1.5/1.6 MB\u001b[0m \u001b[31m43.3 MB/s\u001b[0m eta \u001b[36m0:00:01\u001b[0m\r\u001b[2K     \u001b[90m━━━━━━━━━━━━━━━━━━━━━━━━━━━━━━━━━━━━━━━━\u001b[0m \u001b[32m1.6/1.6 MB\u001b[0m \u001b[31m26.7 MB/s\u001b[0m eta \u001b[36m0:00:00\u001b[0m\n",
            "\u001b[?25h  Preparing metadata (setup.py) ... \u001b[?25l\u001b[?25hdone\n",
            "\u001b[2K     \u001b[90m━━━━━━━━━━━━━━━━━━━━━━━━━━━━━━━━━━━━━━━━\u001b[0m \u001b[32m1.0/1.0 MB\u001b[0m \u001b[31m33.6 MB/s\u001b[0m eta \u001b[36m0:00:00\u001b[0m\n",
            "\u001b[?25h  Building wheel for gym (setup.py) ... \u001b[?25l\u001b[?25hdone\n",
            "Completed!\n"
          ]
        }
      ],
      "source": [
        "# Melakukan Instalasi Packages yang Dibutuhkan\n",
        "!pip install flask --quiet\n",
        "!pip install flask-ngrok --quiet\n",
        "!pip install gym==0.17.3 --quiet\n",
        "print(\"Completed!\")"
      ]
    },
    {
      "cell_type": "code",
      "source": [
        "# pastikan versi gym == 0.17.3\n",
        "# jika tidak sesuai, install versi gym yang sesuai\n",
        "!pip show gym"
      ],
      "metadata": {
        "colab": {
          "base_uri": "https://localhost:8080/"
        },
        "id": "sL8UHhL00Os5",
        "outputId": "3cd27525-f454-4f07-9c83-92c4e3e77eb7"
      },
      "execution_count": null,
      "outputs": [
        {
          "output_type": "stream",
          "name": "stdout",
          "text": [
            "Name: gym\n",
            "Version: 0.17.3\n",
            "Summary: The OpenAI Gym: A toolkit for developing and comparing your reinforcement learning agents.\n",
            "Home-page: https://github.com/openai/gym\n",
            "Author: OpenAI\n",
            "Author-email: gym@openai.com\n",
            "License: UNKNOWN\n",
            "Location: /usr/local/lib/python3.9/dist-packages\n",
            "Requires: cloudpickle, numpy, pyglet, scipy\n",
            "Required-by: dopamine-rl\n"
          ]
        }
      ]
    },
    {
      "cell_type": "code",
      "source": [
        "# Download \"ngrox\" \n",
        "!wget https://bin.equinox.io/c/4VmDzA7iaHb/ngrok-stable-linux-amd64.tgz\n",
        "!tar -xvf /content/ngrok-stable-linux-amd64.tgz "
      ],
      "metadata": {
        "colab": {
          "base_uri": "https://localhost:8080/"
        },
        "id": "Tgh7OgSOsPia",
        "outputId": "ecfd19a2-3198-4e4b-e7d2-6307eb19a069"
      },
      "execution_count": null,
      "outputs": [
        {
          "output_type": "stream",
          "name": "stdout",
          "text": [
            "--2023-04-25 09:30:05--  https://bin.equinox.io/c/4VmDzA7iaHb/ngrok-stable-linux-amd64.tgz\n",
            "Resolving bin.equinox.io (bin.equinox.io)... 54.161.241.46, 18.205.222.128, 54.237.133.81, ...\n",
            "Connecting to bin.equinox.io (bin.equinox.io)|54.161.241.46|:443... connected.\n",
            "HTTP request sent, awaiting response... 200 OK\n",
            "Length: 13856790 (13M) [application/octet-stream]\n",
            "Saving to: ‘ngrok-stable-linux-amd64.tgz’\n",
            "\n",
            "ngrok-stable-linux- 100%[===================>]  13.21M  9.15MB/s    in 1.4s    \n",
            "\n",
            "2023-04-25 09:30:07 (9.15 MB/s) - ‘ngrok-stable-linux-amd64.tgz’ saved [13856790/13856790]\n",
            "\n",
            "ngrok\n"
          ]
        }
      ]
    },
    {
      "cell_type": "code",
      "source": [
        "# Setting Token\n",
        "!./ngrok authtoken <Auth Token> # diganti dengan token Anda !"
      ],
      "metadata": {
        "colab": {
          "base_uri": "https://localhost:8080/"
        },
        "id": "dB467gFqseLS",
        "outputId": "b07fd3c3-bc6d-4862-eec8-9b2168ca6182"
      },
      "execution_count": null,
      "outputs": [
        {
          "output_type": "stream",
          "name": "stdout",
          "text": [
            "Authtoken saved to configuration file: /root/.ngrok2/ngrok.yml\n"
          ]
        }
      ]
    },
    {
      "cell_type": "code",
      "source": [
        "# Clone Repository dari Github\n",
        "!git clone https://github.com/pemula-newbie/deployment-rl"
      ],
      "metadata": {
        "colab": {
          "base_uri": "https://localhost:8080/"
        },
        "id": "cWfXavqOsks6",
        "outputId": "8aae218a-070c-43ed-fd07-699053d40d77"
      },
      "execution_count": null,
      "outputs": [
        {
          "output_type": "stream",
          "name": "stdout",
          "text": [
            "Cloning into 'deployment-rl'...\n",
            "remote: Enumerating objects: 35, done.\u001b[K\n",
            "remote: Counting objects: 100% (35/35), done.\u001b[K\n",
            "remote: Compressing objects: 100% (34/34), done.\u001b[K\n",
            "remote: Total 35 (delta 6), reused 0 (delta 0), pack-reused 0\u001b[K\n",
            "Unpacking objects: 100% (35/35), 271.21 KiB | 1.56 MiB/s, done.\n"
          ]
        }
      ]
    },
    {
      "cell_type": "code",
      "source": [
        "cd /content/deployment-rl/"
      ],
      "metadata": {
        "colab": {
          "base_uri": "https://localhost:8080/"
        },
        "id": "iGZja4JQ0w4h",
        "outputId": "4b070433-bd8f-47e9-93d5-38a00d4f640f"
      },
      "execution_count": null,
      "outputs": [
        {
          "output_type": "stream",
          "name": "stdout",
          "text": [
            "/content/deployment-rl\n"
          ]
        }
      ]
    },
    {
      "cell_type": "code",
      "source": [
        "# Jalankan Aplikasi (Kode Python \"app.py\")\n",
        "!python3 app.py"
      ],
      "metadata": {
        "colab": {
          "base_uri": "https://localhost:8080/"
        },
        "id": "tjsHsYXjs0x2",
        "outputId": "3deeb30d-7309-4a4a-dac6-2c9a80766cbb"
      },
      "execution_count": null,
      "outputs": [
        {
          "output_type": "stream",
          "name": "stdout",
          "text": [
            " * Serving Flask app 'app'\n",
            " * Debug mode: off\n",
            "\u001b[31m\u001b[1mWARNING: This is a development server. Do not use it in a production deployment. Use a production WSGI server instead.\u001b[0m\n",
            " * Running on http://127.0.0.1:5000\n",
            "\u001b[33mPress CTRL+C to quit\u001b[0m\n",
            " * Running on http://1592-34-82-153-91.ngrok-free.app\n",
            " * Traffic stats available on http://127.0.0.1:4040\n",
            "127.0.0.1 - - [25/Apr/2023 09:30:39] \"GET / HTTP/1.1\" 200 -\n",
            "127.0.0.1 - - [25/Apr/2023 09:30:39] \"\u001b[32mGET /static//css/client_side.css HTTP/1.1\u001b[0m\" 308 -\n",
            "127.0.0.1 - - [25/Apr/2023 09:30:39] \"\u001b[32mGET /static//js/jquery_3.6.0.min.js HTTP/1.1\u001b[0m\" 308 -\n",
            "127.0.0.1 - - [25/Apr/2023 09:30:39] \"\u001b[32mGET /static//css/bootstrap.min.css HTTP/1.1\u001b[0m\" 308 -\n",
            "127.0.0.1 - - [25/Apr/2023 09:30:40] \"GET /static/css/client_side.css HTTP/1.1\" 200 -\n",
            "127.0.0.1 - - [25/Apr/2023 09:30:40] \"GET /static/js/jquery_3.6.0.min.js HTTP/1.1\" 200 -\n",
            "127.0.0.1 - - [25/Apr/2023 09:30:40] \"GET /static/css/bootstrap.min.css HTTP/1.1\" 200 -\n",
            "127.0.0.1 - - [25/Apr/2023 09:30:41] \"\u001b[32mGET /static//js/bootstrap_3.4.1.min.js HTTP/1.1\u001b[0m\" 308 -\n",
            "127.0.0.1 - - [25/Apr/2023 09:30:42] \"GET /static/js/bootstrap_3.4.1.min.js HTTP/1.1\" 200 -\n",
            "127.0.0.1 - - [25/Apr/2023 09:30:43] \"\u001b[32mGET /static//images/app-display.JPG HTTP/1.1\u001b[0m\" 308 -\n",
            "127.0.0.1 - - [25/Apr/2023 09:30:43] \"\u001b[32mGET /static//images/orbit_logo.jpg HTTP/1.1\u001b[0m\" 308 -\n",
            "127.0.0.1 - - [25/Apr/2023 09:30:43] \"\u001b[32mGET /static//js/client_side.js HTTP/1.1\u001b[0m\" 308 -\n",
            "127.0.0.1 - - [25/Apr/2023 09:30:43] \"GET /static/images/app-display.JPG HTTP/1.1\" 200 -\n",
            "127.0.0.1 - - [25/Apr/2023 09:30:43] \"GET /static/images/orbit_logo.jpg HTTP/1.1\" 200 -\n",
            "127.0.0.1 - - [25/Apr/2023 09:30:43] \"GET /static/js/client_side.js HTTP/1.1\" 200 -\n",
            "127.0.0.1 - - [25/Apr/2023 09:30:44] \"GET /static/fonts/glyphicons-halflings-regular.woff2 HTTP/1.1\" 200 -\n",
            "127.0.0.1 - - [25/Apr/2023 09:30:44] \"GET /static/fonts/lato_latin.woff2 HTTP/1.1\" 200 -\n",
            "127.0.0.1 - - [25/Apr/2023 09:30:45] \"GET /static/favicon.ico HTTP/1.1\" 200 -\n",
            "127.0.0.1 - - [25/Apr/2023 09:30:45] \"GET /api/reset HTTP/1.1\" 200 -\n",
            "127.0.0.1 - - [25/Apr/2023 09:30:46] \"GET /static/images/frozen-pemain.JPG HTTP/1.1\" 200 -\n",
            "127.0.0.1 - - [25/Apr/2023 09:30:46] \"GET /static/images/lubang.JPG HTTP/1.1\" 200 -\n",
            "127.0.0.1 - - [25/Apr/2023 09:30:46] \"GET /static/images/goal.JPG HTTP/1.1\" 200 -\n",
            "127.0.0.1 - - [25/Apr/2023 09:30:46] \"GET /static/images/frozen.JPG HTTP/1.1\" 200 -\n",
            "127.0.0.1 - - [25/Apr/2023 09:30:49] \"\u001b[36mGET /static/favicon.ico HTTP/1.1\u001b[0m\" 304 -\n",
            "127.0.0.1 - - [25/Apr/2023 09:30:51] \"POST /api/gerak HTTP/1.1\" 200 -\n",
            "127.0.0.1 - - [25/Apr/2023 09:30:52] \"GET /static/images/awal.JPG HTTP/1.1\" 200 -\n",
            "127.0.0.1 - - [25/Apr/2023 09:30:55] \"POST /api/gerak HTTP/1.1\" 200 -\n",
            "127.0.0.1 - - [25/Apr/2023 09:30:58] \"POST /api/gerak HTTP/1.1\" 200 -\n",
            "127.0.0.1 - - [25/Apr/2023 09:31:10] \"GET /api/robotBelajar HTTP/1.1\" 200 -\n",
            "127.0.0.1 - - [25/Apr/2023 09:31:12] \"GET /api/reset HTTP/1.1\" 200 -\n",
            "127.0.0.1 - - [25/Apr/2023 09:31:13] \"GET /api/gerakRobot HTTP/1.1\" 200 -\n",
            "127.0.0.1 - - [25/Apr/2023 09:31:15] \"GET /api/gerakRobot HTTP/1.1\" 200 -\n",
            "127.0.0.1 - - [25/Apr/2023 09:31:16] \"GET /api/gerakRobot HTTP/1.1\" 200 -\n",
            "127.0.0.1 - - [25/Apr/2023 09:31:18] \"GET /api/gerakRobot HTTP/1.1\" 200 -\n",
            "127.0.0.1 - - [25/Apr/2023 09:31:20] \"GET /api/gerakRobot HTTP/1.1\" 200 -\n",
            "127.0.0.1 - - [25/Apr/2023 09:31:21] \"GET /api/gerakRobot HTTP/1.1\" 200 -\n",
            "127.0.0.1 - - [25/Apr/2023 09:31:22] \"GET /static/images/goal-pemain.JPG HTTP/1.1\" 200 -\n",
            "^C\n"
          ]
        }
      ]
    }
  ]
}