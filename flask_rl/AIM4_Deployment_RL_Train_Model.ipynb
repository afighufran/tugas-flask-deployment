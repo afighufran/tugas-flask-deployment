{
  "cells": [
    {
      "cell_type": "markdown",
      "metadata": {
        "id": "TyKhbVTJcZ6J"
      },
      "source": [
        "# Frozen Lake (Q-Learning)\n",
        "\n",
        "**Contoh Deloyment untuk Domain einforcement Learning (RL)** <br>\n",
        "Orbit Future Academy - AI Mastery - KM Batch 4 <br>\n",
        "Tim Deployment dan Tim RL <br>\n",
        "2023 <br>\n",
        "\n",
        "<img src=\"https://orbitfutureacademy.id/wp-content/uploads/2023/03/OFA-Logo-01.png\" alt=\"Logo Orbit\" width=\"100\" height=\"30\">"
      ]
    },
    {
      "cell_type": "markdown",
      "metadata": {
        "id": "aS0Nbl-ucZ6O"
      },
      "source": [
        "## Modules dan Packages"
      ]
    },
    {
      "cell_type": "code",
      "source": [
        "# Melakukan Instalasi Packages yang Dibutuhkan\n",
        "!pip install gym==0.17.3 --quiet\n",
        "print(\"Completed!\")"
      ],
      "metadata": {
        "colab": {
          "base_uri": "https://localhost:8080/"
        },
        "id": "wpir53PcdhDK",
        "outputId": "32b59eb0-7b56-4c15-864d-2ad20d2c3aed"
      },
      "execution_count": null,
      "outputs": [
        {
          "output_type": "stream",
          "name": "stdout",
          "text": [
            "Completed!\n"
          ]
        }
      ]
    },
    {
      "cell_type": "code",
      "execution_count": null,
      "metadata": {
        "id": "rwRCWL3qNcwj"
      },
      "outputs": [],
      "source": [
        "import numpy as np\n",
        "import gym\n",
        "import pickle"
      ]
    },
    {
      "cell_type": "markdown",
      "metadata": {
        "id": "DPDMooW2cZ6Q"
      },
      "source": [
        "## Load Environment"
      ]
    },
    {
      "cell_type": "code",
      "execution_count": null,
      "metadata": {
        "id": "XeLebW5CcZ6Q"
      },
      "outputs": [],
      "source": [
        "# Peta (ada 5 peta)\n",
        "peta = [\n",
        "    ['SFFF','FHFH','FFFH','HFFG'],\n",
        "    ['SFFF','FFHF','HFFF','HFFG'],\n",
        "    ['SHFF','FHFH','FFFH','HHFG'],\n",
        "    ['SFFF','HHFF','FFFF','HFFG'],\n",
        "    ['SFFH','FFFH','HFFH','HHFG']\n",
        "]"
      ]
    },
    {
      "cell_type": "code",
      "execution_count": null,
      "metadata": {
        "id": "-v9FRSOlP2Bh"
      },
      "outputs": [],
      "source": [
        "# Load Environment\n",
        "env = gym.make(\"FrozenLake-v0\",is_slippery=False, desc=peta[0])"
      ]
    },
    {
      "cell_type": "code",
      "execution_count": null,
      "metadata": {
        "colab": {
          "base_uri": "https://localhost:8080/"
        },
        "id": "0ZEKG9WhcZ6R",
        "outputId": "013729e4-3327-44df-a618-48326ca6ebce"
      },
      "outputs": [
        {
          "output_type": "stream",
          "name": "stdout",
          "text": [
            "Banyak State  : 16\n",
            "Banyak Action : 4\n"
          ]
        }
      ],
      "source": [
        "n_observations = env.observation_space.n\n",
        "n_actions      = env.action_space.n\n",
        "\n",
        "print('Banyak State  : ' + str(n_observations))\n",
        "print('Banyak Action : ' + str(n_actions))"
      ]
    },
    {
      "cell_type": "code",
      "execution_count": null,
      "metadata": {
        "id": "8idmpRhNcZ6S"
      },
      "outputs": [],
      "source": [
        "ACTION = [\"KIRI\",\"BAWAH\",\"KANAN\",\"ATAS\"]"
      ]
    },
    {
      "cell_type": "markdown",
      "metadata": {
        "id": "xXwqtjmiUu9t"
      },
      "source": [
        "## Exploring the Environment"
      ]
    },
    {
      "cell_type": "markdown",
      "metadata": {
        "id": "y5_AE5cXcZ6T"
      },
      "source": [
        "Daftar Gerakan/Actions : <br>\n",
        "\n",
        "◀️ KIRI  = 0 <br>\n",
        "🔽 BAWAH = 1 <br>\n",
        "▶️ KANAN = 2 <br>\n",
        "🔼 ATAS  = 3 <br>"
      ]
    },
    {
      "cell_type": "code",
      "execution_count": null,
      "metadata": {
        "colab": {
          "base_uri": "https://localhost:8080/"
        },
        "id": "P_wKHO94cZ6U",
        "outputId": "2a23a471-08a3-494a-b259-ad78e9b54f3f"
      },
      "outputs": [
        {
          "output_type": "stream",
          "name": "stdout",
          "text": [
            "\n",
            "\u001b[41mS\u001b[0mFFF\n",
            "FHFH\n",
            "FFFH\n",
            "HFFG\n"
          ]
        }
      ],
      "source": [
        "env.reset()\n",
        "env.render()"
      ]
    },
    {
      "cell_type": "code",
      "execution_count": null,
      "metadata": {
        "colab": {
          "base_uri": "https://localhost:8080/"
        },
        "id": "0yRcuKp4cZ6U",
        "outputId": "847648af-bbb1-4873-c884-8aae56be2d0a"
      },
      "outputs": [
        {
          "output_type": "stream",
          "name": "stdout",
          "text": [
            "New State : 1\n",
            "Reward    : 0.0\n",
            "Done      : False\n",
            "  (Right)\n",
            "S\u001b[41mF\u001b[0mFF\n",
            "FHFH\n",
            "FFFH\n",
            "HFFG\n"
          ]
        }
      ],
      "source": [
        "# Langkah 1 (ke Kanan)\n",
        "new_state, reward, done, info = env.step(2)\n",
        "\n",
        "print('New State : ' + str(new_state))\n",
        "print('Reward    : ' + str(reward))\n",
        "print('Done      : ' + str(done))\n",
        "\n",
        "env.render()"
      ]
    },
    {
      "cell_type": "code",
      "execution_count": null,
      "metadata": {
        "colab": {
          "base_uri": "https://localhost:8080/"
        },
        "id": "_DwthKm4cZ6U",
        "outputId": "71b28efe-73cb-49ae-cb0c-768c8de7cd9d"
      },
      "outputs": [
        {
          "output_type": "stream",
          "name": "stdout",
          "text": [
            "New State : 2\n",
            "Reward    : 0.0\n",
            "Done      : False\n",
            "  (Right)\n",
            "SF\u001b[41mF\u001b[0mF\n",
            "FHFH\n",
            "FFFH\n",
            "HFFG\n"
          ]
        }
      ],
      "source": [
        "# Langkah 2 (ke Kanan)\n",
        "new_state, reward, done, info = env.step(2)\n",
        "\n",
        "print('New State : ' + str(new_state))\n",
        "print('Reward    : ' + str(reward))\n",
        "print('Done      : ' + str(done))\n",
        "\n",
        "env.render()"
      ]
    },
    {
      "cell_type": "code",
      "execution_count": null,
      "metadata": {
        "colab": {
          "base_uri": "https://localhost:8080/"
        },
        "id": "EEq5oFAUcZ6V",
        "outputId": "0cb7ef56-2902-4308-ab94-2caa23761e49"
      },
      "outputs": [
        {
          "output_type": "stream",
          "name": "stdout",
          "text": [
            "New State : 6\n",
            "Reward    : 0.0\n",
            "Done      : False\n",
            "  (Down)\n",
            "SFFF\n",
            "FH\u001b[41mF\u001b[0mH\n",
            "FFFH\n",
            "HFFG\n"
          ]
        }
      ],
      "source": [
        "# Langkah 3 (ke Bawah)\n",
        "new_state, reward, done, info = env.step(1)\n",
        "\n",
        "print('New State : ' + str(new_state))\n",
        "print('Reward    : ' + str(reward))\n",
        "print('Done      : ' + str(done))\n",
        "\n",
        "env.render()"
      ]
    },
    {
      "cell_type": "code",
      "execution_count": null,
      "metadata": {
        "colab": {
          "base_uri": "https://localhost:8080/"
        },
        "id": "toWgnxOacZ6V",
        "outputId": "cc4a717c-9106-4548-81e1-162636677631"
      },
      "outputs": [
        {
          "output_type": "stream",
          "name": "stdout",
          "text": [
            "New State : 10\n",
            "Reward    : 0.0\n",
            "Done      : False\n",
            "  (Down)\n",
            "SFFF\n",
            "FHFH\n",
            "FF\u001b[41mF\u001b[0mH\n",
            "HFFG\n"
          ]
        }
      ],
      "source": [
        "# Langkah 4 (ke Bawah)\n",
        "new_state, reward, done, info = env.step(1)\n",
        "\n",
        "print('New State : ' + str(new_state))\n",
        "print('Reward    : ' + str(reward))\n",
        "print('Done      : ' + str(done))\n",
        "\n",
        "env.render()"
      ]
    },
    {
      "cell_type": "code",
      "execution_count": null,
      "metadata": {
        "colab": {
          "base_uri": "https://localhost:8080/"
        },
        "id": "AiWQmRkLcZ6V",
        "outputId": "c9def785-114a-4c91-ddbe-fde43bae191b"
      },
      "outputs": [
        {
          "output_type": "stream",
          "name": "stdout",
          "text": [
            "New State : 14\n",
            "Reward    : 0.0\n",
            "Done      : False\n",
            "  (Down)\n",
            "SFFF\n",
            "FHFH\n",
            "FFFH\n",
            "HF\u001b[41mF\u001b[0mG\n"
          ]
        }
      ],
      "source": [
        "# Langkah 5 (ke Bawah)\n",
        "new_state, reward, done, info = env.step(1)\n",
        "\n",
        "print('New State : ' + str(new_state))\n",
        "print('Reward    : ' + str(reward))\n",
        "print('Done      : ' + str(done))\n",
        "\n",
        "env.render()"
      ]
    },
    {
      "cell_type": "code",
      "execution_count": null,
      "metadata": {
        "colab": {
          "base_uri": "https://localhost:8080/"
        },
        "id": "srjWA_UMcZ6W",
        "outputId": "43cb03a0-89d9-48bc-dcad-0b98929e13ab"
      },
      "outputs": [
        {
          "output_type": "stream",
          "name": "stdout",
          "text": [
            "New State : 15\n",
            "Reward    : 1.0\n",
            "Done      : True\n",
            "  (Right)\n",
            "SFFF\n",
            "FHFH\n",
            "FFFH\n",
            "HFF\u001b[41mG\u001b[0m\n"
          ]
        }
      ],
      "source": [
        "# Langkah 6 (ke Kanan)\n",
        "new_state, reward, done, info = env.step(2)\n",
        "\n",
        "print('New State : ' + str(new_state))\n",
        "print('Reward    : ' + str(reward))\n",
        "print('Done      : ' + str(done))\n",
        "\n",
        "env.render()"
      ]
    },
    {
      "cell_type": "markdown",
      "metadata": {
        "id": "yLGEAwHocZ6W"
      },
      "source": [
        "## Training Model/Agent"
      ]
    },
    {
      "cell_type": "code",
      "execution_count": null,
      "metadata": {
        "id": "PFbvVRXycZ6W"
      },
      "outputs": [],
      "source": [
        "def train_agent(env):\n",
        "    # banyak episode yang akan dijalankan\n",
        "    n_episodes = 10000\n",
        "\n",
        "    # iterasi maksimum per episode\n",
        "    max_iter_episode = 100\n",
        "\n",
        "    # inisialisasi probabilitas eksplorasi\n",
        "    exploration_proba = 1\n",
        "\n",
        "    # penurunan eksplorasi secara eksponensial\n",
        "    exploration_decreasing_decay = 0.001\n",
        "\n",
        "    # probabilitas eksplorasi minimum\n",
        "    min_exploration_proba = 0.01\n",
        "\n",
        "    # faktor diskon\n",
        "    gamma = 0.99\n",
        "\n",
        "    # learning rate\n",
        "    lr = 0.1\n",
        "    \n",
        "    # Inisialisasi Q-table \n",
        "    Q_table = np.zeros((n_observations,n_actions))\n",
        "    \n",
        "    total_rewards_episode = list()\n",
        "    rewards_per_episode=[]\n",
        "    \n",
        "    for e in range(n_episodes):\n",
        "        current_state = env.reset()\n",
        "        done = False\n",
        "        total_episode_reward = 0\n",
        "\n",
        "        for i in range(max_iter_episode):      \n",
        "            if np.random.uniform(0,1) < exploration_proba:\n",
        "                action = env.action_space.sample()\n",
        "            else:\n",
        "                action = np.argmax(Q_table[current_state,:])\n",
        "\n",
        "            next_state, reward, done, _ = env.step(action)\n",
        "\n",
        "            Q_table[current_state, action] = (1-lr) * Q_table[current_state, action] +lr*(reward + gamma*max(Q_table[next_state,:]))\n",
        "            total_episode_reward = total_episode_reward + reward\n",
        "\n",
        "            if done:\n",
        "                break\n",
        "\n",
        "            current_state = next_state\n",
        "\n",
        "        exploration_proba = max(min_exploration_proba, np.exp(-exploration_decreasing_decay*e))\n",
        "        rewards_per_episode.append(total_episode_reward)\n",
        "    \n",
        "    print(\"Rata-Rata Reward per 1000 Episode\")\n",
        "    for i in range(10):\n",
        "        print((i+1)*1000, \" : Rata-Rata Reward: \", np.mean(rewards_per_episode[1000*i:1000*(i+1)])) \n",
        "    \n",
        "    return Q_table"
      ]
    },
    {
      "cell_type": "code",
      "execution_count": null,
      "metadata": {
        "colab": {
          "base_uri": "https://localhost:8080/"
        },
        "id": "anYocP3OcZ6X",
        "outputId": "98e5c9f3-3990-4926-f7af-3052c19acbf0"
      },
      "outputs": [
        {
          "output_type": "stream",
          "name": "stdout",
          "text": [
            "Peta : \n",
            "['SFFF', 'FHFH', 'FFFH', 'HFFG']\n",
            "\n",
            "Rata-Rata Reward per 1000 Episode\n",
            "1000  : Rata-Rata Reward:  0.283\n",
            "2000  : Rata-Rata Reward:  0.735\n",
            "3000  : Rata-Rata Reward:  0.918\n",
            "4000  : Rata-Rata Reward:  0.968\n",
            "5000  : Rata-Rata Reward:  0.992\n",
            "6000  : Rata-Rata Reward:  0.993\n",
            "7000  : Rata-Rata Reward:  0.996\n",
            "8000  : Rata-Rata Reward:  0.989\n",
            "9000  : Rata-Rata Reward:  0.993\n",
            "10000  : Rata-Rata Reward:  0.994\n",
            "\n",
            "Peta : \n",
            "['SFFF', 'FFHF', 'HFFF', 'HFFG']\n",
            "\n",
            "Rata-Rata Reward per 1000 Episode\n",
            "1000  : Rata-Rata Reward:  0.41\n",
            "2000  : Rata-Rata Reward:  0.865\n",
            "3000  : Rata-Rata Reward:  0.955\n",
            "4000  : Rata-Rata Reward:  0.984\n",
            "5000  : Rata-Rata Reward:  0.997\n",
            "6000  : Rata-Rata Reward:  0.992\n",
            "7000  : Rata-Rata Reward:  0.995\n",
            "8000  : Rata-Rata Reward:  0.998\n",
            "9000  : Rata-Rata Reward:  0.995\n",
            "10000  : Rata-Rata Reward:  0.998\n",
            "\n",
            "Peta : \n",
            "['SHFF', 'FHFH', 'FFFH', 'HHFG']\n",
            "\n",
            "Rata-Rata Reward per 1000 Episode\n",
            "1000  : Rata-Rata Reward:  0.0\n",
            "2000  : Rata-Rata Reward:  0.001\n",
            "3000  : Rata-Rata Reward:  0.0\n",
            "4000  : Rata-Rata Reward:  0.0\n",
            "5000  : Rata-Rata Reward:  0.0\n",
            "6000  : Rata-Rata Reward:  0.0\n",
            "7000  : Rata-Rata Reward:  0.0\n",
            "8000  : Rata-Rata Reward:  0.0\n",
            "9000  : Rata-Rata Reward:  0.0\n",
            "10000  : Rata-Rata Reward:  0.0\n",
            "\n",
            "Peta : \n",
            "['SFFF', 'HHFF', 'FFFF', 'HFFG']\n",
            "\n",
            "Rata-Rata Reward per 1000 Episode\n",
            "1000  : Rata-Rata Reward:  0.444\n",
            "2000  : Rata-Rata Reward:  0.856\n",
            "3000  : Rata-Rata Reward:  0.944\n",
            "4000  : Rata-Rata Reward:  0.985\n",
            "5000  : Rata-Rata Reward:  0.993\n",
            "6000  : Rata-Rata Reward:  0.994\n",
            "7000  : Rata-Rata Reward:  0.994\n",
            "8000  : Rata-Rata Reward:  0.994\n",
            "9000  : Rata-Rata Reward:  0.996\n",
            "10000  : Rata-Rata Reward:  0.997\n",
            "\n",
            "Peta : \n",
            "['SFFH', 'FFFH', 'HFFH', 'HHFG']\n",
            "\n",
            "Rata-Rata Reward per 1000 Episode\n",
            "1000  : Rata-Rata Reward:  0.281\n",
            "2000  : Rata-Rata Reward:  0.767\n",
            "3000  : Rata-Rata Reward:  0.9\n",
            "4000  : Rata-Rata Reward:  0.975\n",
            "5000  : Rata-Rata Reward:  0.99\n",
            "6000  : Rata-Rata Reward:  0.994\n",
            "7000  : Rata-Rata Reward:  0.991\n",
            "8000  : Rata-Rata Reward:  0.987\n",
            "9000  : Rata-Rata Reward:  0.988\n",
            "10000  : Rata-Rata Reward:  0.991\n",
            "\n"
          ]
        }
      ],
      "source": [
        "Q_table_all = []\n",
        "\n",
        "for peta_env in peta:\n",
        "    # Load Environment untuk setiap peta\n",
        "    env = gym.make(\"FrozenLake-v0\",is_slippery=False, desc=peta_env)\n",
        "    env.reset()\n",
        "    \n",
        "    print('Peta : ')\n",
        "    print(peta_env)\n",
        "    print()\n",
        "    \n",
        "    # Melatih Agent\n",
        "    Q_table = train_agent(env)\n",
        "    \n",
        "    # Menyimpan Q_table\n",
        "    Q_table_all.append(Q_table)\n",
        "    \n",
        "    print()"
      ]
    },
    {
      "cell_type": "markdown",
      "metadata": {
        "id": "1Qco5xJtcZ6X"
      },
      "source": [
        "## Memainkan Agent yang Telah Dilatih"
      ]
    },
    {
      "cell_type": "code",
      "execution_count": null,
      "metadata": {
        "colab": {
          "base_uri": "https://localhost:8080/"
        },
        "id": "HqvWEXLhcZ6X",
        "outputId": "9f9a0e5b-e634-4921-a8de-941a270ef921"
      },
      "outputs": [
        {
          "output_type": "execute_result",
          "data": {
            "text/plain": [
              "0"
            ]
          },
          "metadata": {},
          "execution_count": 16
        }
      ],
      "source": [
        "index_peta = 0 # silahkan pilih peta\n",
        "\n",
        "env = gym.make(\"FrozenLake-v0\",is_slippery=False, desc=peta[index_peta])\n",
        "env.reset()"
      ]
    },
    {
      "cell_type": "code",
      "execution_count": null,
      "metadata": {
        "colab": {
          "base_uri": "https://localhost:8080/"
        },
        "id": "RJUahwyVcZ6Y",
        "outputId": "c91bcbed-6e70-4a74-9dd3-d59fec825367"
      },
      "outputs": [
        {
          "output_type": "stream",
          "name": "stdout",
          "text": [
            "Langkah ke  : 1\n",
            "Best Action : BAWAH\n",
            "New State   : 4\n",
            "Reward      : 0.0\n",
            "Done        : False\n",
            "\n",
            "  (Down)\n",
            "SFFF\n",
            "\u001b[41mF\u001b[0mHFH\n",
            "FFFH\n",
            "HFFG\n",
            "\n",
            "Langkah ke  : 2\n",
            "Best Action : BAWAH\n",
            "New State   : 8\n",
            "Reward      : 0.0\n",
            "Done        : False\n",
            "\n",
            "  (Down)\n",
            "SFFF\n",
            "FHFH\n",
            "\u001b[41mF\u001b[0mFFH\n",
            "HFFG\n",
            "\n",
            "Langkah ke  : 3\n",
            "Best Action : KANAN\n",
            "New State   : 9\n",
            "Reward      : 0.0\n",
            "Done        : False\n",
            "\n",
            "  (Right)\n",
            "SFFF\n",
            "FHFH\n",
            "F\u001b[41mF\u001b[0mFH\n",
            "HFFG\n",
            "\n",
            "Langkah ke  : 4\n",
            "Best Action : BAWAH\n",
            "New State   : 13\n",
            "Reward      : 0.0\n",
            "Done        : False\n",
            "\n",
            "  (Down)\n",
            "SFFF\n",
            "FHFH\n",
            "FFFH\n",
            "H\u001b[41mF\u001b[0mFG\n",
            "\n",
            "Langkah ke  : 5\n",
            "Best Action : KANAN\n",
            "New State   : 14\n",
            "Reward      : 0.0\n",
            "Done        : False\n",
            "\n",
            "  (Right)\n",
            "SFFF\n",
            "FHFH\n",
            "FFFH\n",
            "HF\u001b[41mF\u001b[0mG\n",
            "\n",
            "Langkah ke  : 6\n",
            "Best Action : KANAN\n",
            "New State   : 15\n",
            "Reward      : 1.0\n",
            "Done        : True\n",
            "\n",
            "  (Right)\n",
            "SFFF\n",
            "FHFH\n",
            "FFFH\n",
            "HFF\u001b[41mG\u001b[0m\n",
            "\n"
          ]
        }
      ],
      "source": [
        "for langkah in range(1,7):\n",
        "    if langkah == 1:\n",
        "        best_action = np.argmax(Q_table_all[index_peta][0])\n",
        "    else:\n",
        "        best_action = np.argmax(Q_table_all[index_peta][current_state])\n",
        "        \n",
        "    new_state, reward, done, info = env.step(best_action)\n",
        "\n",
        "    print('Langkah ke  : ' + str(langkah))\n",
        "    print('Best Action : ' + ACTION[best_action])\n",
        "    print('New State   : ' + str(new_state))\n",
        "    print('Reward      : ' + str(reward))\n",
        "    print('Done        : ' + str(done))\n",
        "    print()\n",
        "\n",
        "    env.render()\n",
        "    \n",
        "    current_state = new_state\n",
        "    \n",
        "    print()"
      ]
    },
    {
      "cell_type": "markdown",
      "metadata": {
        "id": "z-xh44JycZ6Y"
      },
      "source": [
        "## Periksa Apakah Agent Dapat Menyelesaikan Semua Peta"
      ]
    },
    {
      "cell_type": "code",
      "execution_count": null,
      "metadata": {
        "colab": {
          "base_uri": "https://localhost:8080/"
        },
        "id": "D4EWjs7IcZ6Y",
        "outputId": "2ba3ce51-301b-4691-fef3-1bc8bf2b709e"
      },
      "outputs": [
        {
          "output_type": "stream",
          "name": "stdout",
          "text": [
            "Peta   : ['SFFF', 'FHFH', 'FFFH', 'HFFG']\n",
            "Status : Agent dapat menyelesaikan peta ini\n",
            "\n",
            "Peta   : ['SFFF', 'FFHF', 'HFFF', 'HFFG']\n",
            "Status : Agent dapat menyelesaikan peta ini\n",
            "\n",
            "Peta   : ['SHFF', 'FHFH', 'FFFH', 'HHFG']\n",
            "Status : Agent dapat menyelesaikan peta ini\n",
            "\n",
            "Peta   : ['SFFF', 'HHFF', 'FFFF', 'HFFG']\n",
            "Status : Agent dapat menyelesaikan peta ini\n",
            "\n",
            "Peta   : ['SFFH', 'FFFH', 'HFFH', 'HHFG']\n",
            "Status : Agent dapat menyelesaikan peta ini\n",
            "\n"
          ]
        }
      ],
      "source": [
        "for peta_env in peta:\n",
        "    print(\"Peta   : \" + str(peta_env))\n",
        "    \n",
        "    env = gym.make(\"FrozenLake-v0\",is_slippery=False, desc=peta_env)\n",
        "    env.reset()\n",
        "    \n",
        "    for langkah in range(1,7):\n",
        "        if langkah == 1:\n",
        "            best_action = np.argmax(Q_table_all[index_peta][0])\n",
        "        else:\n",
        "            best_action = np.argmax(Q_table_all[index_peta][current_state])\n",
        "\n",
        "        new_state, reward, done, info = env.step(best_action)\n",
        "\n",
        "        current_state = new_state\n",
        "\n",
        "    if done == True:\n",
        "        print(\"Status : Agent dapat menyelesaikan peta ini\")\n",
        "    else:\n",
        "        print(\"Status : Agent tidak dapat menyelesaikan peta ini\")\n",
        "        \n",
        "    print()"
      ]
    },
    {
      "cell_type": "markdown",
      "metadata": {
        "id": "AwMPJRfHcZ6Y"
      },
      "source": [
        "## Menyimpan Model"
      ]
    },
    {
      "cell_type": "code",
      "execution_count": null,
      "metadata": {
        "id": "GoDRkBh7cZ6Y"
      },
      "outputs": [],
      "source": [
        "pickle.dump(Q_table_all, open('Q_table_Frozen_Lake.model', 'wb'))"
      ]
    }
  ],
  "metadata": {
    "colab": {
      "provenance": []
    },
    "kernelspec": {
      "display_name": "tf_env2",
      "language": "python",
      "name": "tf_env2"
    },
    "language_info": {
      "codemirror_mode": {
        "name": "ipython",
        "version": 3
      },
      "file_extension": ".py",
      "mimetype": "text/x-python",
      "name": "python",
      "nbconvert_exporter": "python",
      "pygments_lexer": "ipython3",
      "version": "3.8.5"
    }
  },
  "nbformat": 4,
  "nbformat_minor": 0
}